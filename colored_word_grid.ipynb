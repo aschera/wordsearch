{
 "cells": [
  {
   "cell_type": "code",
   "execution_count": null,
   "metadata": {},
   "outputs": [],
   "source": [
    "import tkinter as tk\n",
    "import random\n",
    "import string"
   ]
  },
  {
   "cell_type": "code",
   "execution_count": null,
   "metadata": {},
   "outputs": [],
   "source": [
    "# Function to create a grid of cells with varying colors and text values\n",
    "def create_colored_grid(size):\n",
    "    root = tk.Tk()\n",
    "    root.title(\"Colored Grid\")\n",
    "\n",
    "    for row in range(size):\n",
    "        for col in range(size):\n",
    "            text = random.choice(string.ascii_uppercase)\n",
    "            color = \"#%02x%02x%02x\" % (random.randint(0, 255), random.randint(0, 255), random.randint(0, 255))\n",
    "            cell = tk.Label(root, text=text, bg=color, width=5, height=2, font=('Helvetica', 12, 'bold'))\n",
    "            cell.grid(row=row, column=col, padx=1, pady=1)\n",
    "\n",
    "    root.mainloop()"
   ]
  },
  {
   "cell_type": "code",
   "execution_count": null,
   "metadata": {},
   "outputs": [],
   "source": [
    "# Size of the grid\n",
    "grid_size = 10"
   ]
  },
  {
   "cell_type": "code",
   "execution_count": null,
   "metadata": {},
   "outputs": [],
   "source": [
    "create_colored_grid(grid_size)"
   ]
  }
 ],
 "metadata": {
  "language_info": {
   "name": "python"
  }
 },
 "nbformat": 4,
 "nbformat_minor": 2
}
