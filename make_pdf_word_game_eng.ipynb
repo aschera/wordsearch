{
 "cells": [
  {
   "cell_type": "code",
   "execution_count": 1,
   "metadata": {},
   "outputs": [
    {
     "name": "stdout",
     "output_type": "stream",
     "text": [
      "Requirement already satisfied: termcolor in c:\\users\\asche\\anaconda3\\envs\\ailab\\lib\\site-packages (2.3.0)\n",
      "Note: you may need to restart the kernel to use updated packages.\n"
     ]
    }
   ],
   "source": [
    "pip install termcolor"
   ]
  },
  {
   "cell_type": "markdown",
   "metadata": {},
   "source": [
    "# Matrix trace"
   ]
  },
  {
   "cell_type": "markdown",
   "metadata": {},
   "source": [
    "- Define Word Lists: We already have the words provided. We'll use these to generate the puzzle.\n",
    "\n",
    "- Choose Grid Size: Determine the grid size based on the maximum word length. We'll ensure the grid size is at least 5 and proportional to the word length.\n",
    "\n",
    "- Create Empty Grid: Initialize an empty grid of the determined size.\n",
    "\n",
    "- Place Words: Randomly place words onto the grid while ensuring they fit and do not overlap.\n",
    "\n",
    "- Fill Grid: Fill the remaining empty spaces on the grid with random letters.\n",
    "\n",
    "- Print Grid: Display the grid with words highlighted."
   ]
  },
  {
   "cell_type": "code",
   "execution_count": 2,
   "metadata": {},
   "outputs": [],
   "source": [
    "import tkinter as tk\n",
    "import random\n",
    "import string\n",
    "import ipywidgets as widgets\n",
    "from IPython.display import display\n",
    "import tkinter as tk\n",
    "import random\n",
    "import string\n",
    "import tkinter as tk\n",
    "import random\n",
    "import string\n",
    "import ipywidgets as widgets\n",
    "from IPython.display import display\n",
    "from reportlab.lib.pagesizes import letter\n",
    "from reportlab.pdfgen import canvas\n",
    "import tkinter as tk\n",
    "import random\n",
    "import string\n",
    "import json\n",
    "from reportlab.lib.pagesizes import letter\n",
    "from reportlab.pdfgen import canvas"
   ]
  },
  {
   "cell_type": "code",
   "execution_count": 3,
   "metadata": {},
   "outputs": [
    {
     "name": "stdout",
     "output_type": "stream",
     "text": [
      "{'PreK': {'Animals': ['CAT', 'DOG', 'COW', 'FISH', 'PIG', 'FOX', 'BAT', 'RAT', 'OWL', 'ANT', 'BEE', 'FLY', 'ELK', 'EMU', 'GNU', 'EEL', 'YAK', 'APE']}, 'Kindergarten': {'Animals': ['TAHR', 'ROOK', 'MOLE', 'MINK', 'PONY', 'SLUG', 'BASS', 'TIGER', 'DUCK', 'SWAN', 'TOAD', 'LION', 'GULL', 'SOLE', 'DEER', 'SHEEP', 'BIRD', 'KIWI', 'PUMA', 'TERN', 'TICK', 'TUNA', 'PANDA', 'CROW', 'FOWL', 'CARP', 'FROG', 'GOAT', 'BOAR', 'KOALA', 'CRAB', 'KITE', 'NEWT', 'MOTH', 'WOLF', 'PIKE', 'CLAM', 'LOON', 'MULE', 'HAWK', 'LARK', 'LYNX', 'ORCA', 'WORM', 'FISH', 'HARE', 'GUAN', 'FLEA', 'HORSE', 'WASP', 'ZEBRA', 'BEAR', 'MITE', 'VOLE', 'CLAM']}, '1st Grade': {'Animals': ['RABBIT', 'TURTLE', 'MONKEY', 'KANGAROO', 'ELEPHANT', 'GIRAFFE', 'HIPPO', 'RHINO', 'CHEETAH', 'LEOPARD', 'GORILLA', 'FLAMINGO', 'CAMELEON', 'LADYBUG']}}\n"
     ]
    }
   ],
   "source": [
    "import json\n",
    "import random\n",
    "import string\n",
    "import tkinter as tk\n",
    "from reportlab.lib.pagesizes import letter\n",
    "from reportlab.pdfgen import canvas\n",
    "import os\n",
    "\n",
    "# Function to load words from JSON files\n",
    "def load_words_from_json(file_path):\n",
    "    with open(file_path, 'r') as f:\n",
    "        words = json.load(f)\n",
    "    return words\n",
    "\n",
    "# Load words from JSON files\n",
    "animals_words = load_words_from_json('./JSON/animals.json')\n",
    "foods_words = load_words_from_json('./JSON/foods.json')\n",
    "colors_words = load_words_from_json('./JSON/colors.json')\n",
    "# Add more categories as needed\n",
    "\n",
    "print(animals_words)\n",
    "\n",
    "# Combine loaded words into a dictionary\n",
    "common_words = {\n",
    "    'Animals': animals_words,\n",
    "    'Foods': foods_words,\n",
    "    'Colors': colors_words,\n",
    "    # Add more categories as needed\n",
    "}\n",
    "\n"
   ]
  },
  {
   "cell_type": "code",
   "execution_count": 4,
   "metadata": {},
   "outputs": [],
   "source": [
    "# Function to get words by category\n",
    "def get_words_by_category(category):\n",
    "    return common_words.get(category, {})\n",
    "\n",
    "def get_words_by_grade_and_type(grade, word_type):\n",
    "    category_words = get_words_by_category(word_type)\n",
    "    return category_words.get(grade, {}).get(word_type, [])\n",
    "\n",
    "def create_empty_grid(size):\n",
    "    return [['' for _ in range(size)] for _ in range(size)]\n",
    "\n",
    "def place_word_in_grid(grid, word, start_row, start_col, direction):\n",
    "    if direction == 'horizontal':\n",
    "        for i, char in enumerate(word):\n",
    "            grid[start_row][start_col + i] = char\n",
    "    elif direction == 'vertical':\n",
    "        for i, char in enumerate(word):\n",
    "            grid[start_row + i][start_col] = char\n",
    "    elif direction == 'diagonal':\n",
    "        for i, char in enumerate(word):\n",
    "            grid[start_row + i][start_col + i] = char\n",
    "\n",
    "def can_place_word(grid, word, start_row, start_col, direction, size):\n",
    "    if direction == 'horizontal' and start_col + len(word) > size:\n",
    "        return False\n",
    "    if direction == 'vertical' and start_row + len(word) > size:\n",
    "        return False\n",
    "    if direction == 'diagonal' and (start_row + len(word) > size or start_col + len(word) > size):\n",
    "        return False\n",
    "    for i in range(len(word)):\n",
    "        if direction == 'horizontal' and grid[start_row][start_col + i] not in ['', word[i]]:\n",
    "            return False\n",
    "        if direction == 'vertical' and grid[start_row + i][start_col] not in ['', word[i]]:\n",
    "            return False\n",
    "        if direction == 'diagonal' and grid[start_row + i][start_col + i] not in ['', word[i]]:\n",
    "            return False\n",
    "    return True\n",
    "\n",
    "def fill_grid_randomly(grid, size):\n",
    "    for row in range(size):\n",
    "        for col in range(size):\n",
    "            if grid[row][col] == '':\n",
    "                grid[row][col] = random.choice(string.ascii_uppercase)\n",
    "\n",
    "def generate_word_search(words, num_words, size=10):\n",
    "    grid = create_empty_grid(size)\n",
    "    directions = ['horizontal', 'vertical', 'diagonal']\n",
    "    word_positions = []\n",
    "\n",
    "    words_to_use = random.sample(words, num_words)\n",
    "\n",
    "    for word in words_to_use:\n",
    "        placed = False\n",
    "        while not placed:\n",
    "            direction = random.choice(directions)\n",
    "            start_row = random.randint(0, size-1)\n",
    "            start_col = random.randint(0, size-1)\n",
    "            if can_place_word(grid, word, start_row, start_col, direction, size):\n",
    "                place_word_in_grid(grid, word, start_row, start_col, direction)\n",
    "                word_positions.append((word, start_row, start_col, direction))\n",
    "                placed = True\n",
    "    \n",
    "    fill_grid_randomly(grid, size)\n",
    "    return grid, word_positions\n",
    "\n",
    "def create_word_search_window(grid, word_positions, size, add_solution_to_pdf, filename):\n",
    "    root = tk.Tk()\n",
    "    root.title(\"Word Search Grid\")\n",
    "\n",
    "    colors = [\"#%02x%02x%02x\" % (random.randint(0, 255), random.randint(0, 255), random.randint(0, 255)) for _ in range(len(word_positions))]\n",
    "\n",
    "    for row in range(size):\n",
    "        for col in range(size):\n",
    "            text = grid[row][col]\n",
    "            color = \"#FFFFFF\"  # Default background color\n",
    "            for idx, pos in enumerate(word_positions):\n",
    "                word, start_row, start_col, direction = pos\n",
    "                if direction == 'horizontal' and row == start_row and start_col <= col < start_col + len(word):\n",
    "                    color = colors[idx]\n",
    "                elif direction == 'vertical' and col == start_col and start_row <= row < start_row + len(word):\n",
    "                    color = colors[idx]\n",
    "                elif direction == 'diagonal' and (row - start_row) == (col - start_col) and start_row <= row < start_row + len(word):\n",
    "                    color = colors[idx]\n",
    "            cell = tk.Label(root, text=text, bg=color, width=4, height=2, font=('Helvetica', 12, 'bold'))\n",
    "            cell.grid(row=row, column=col, padx=1, pady=1)\n",
    "\n",
    "    if add_solution_to_pdf:\n",
    "        # Generate PDF with solution grid\n",
    "        create_solution_pdf(grid, filename, size)\n",
    "        print(f\"Solution PDF created: {filename}\")\n",
    "\n",
    "    root.mainloop()\n",
    "\n",
    "def create_solution_pdf(grid, filename, size):\n",
    "    c = canvas.Canvas(filename, pagesize=letter)\n",
    "    width, height = letter\n",
    "    cell_size = width / size\n",
    "\n",
    "    c.setFont(\"Helvetica\", 12)\n",
    "\n",
    "    for row in range(size):\n",
    "        for col in range(size):\n",
    "            x = col * cell_size\n",
    "            y = height - (row + 1) * cell_size\n",
    "            c.drawString(x + cell_size / 2 - 5, y + cell_size / 2 - 5, grid[row][col])\n",
    "\n",
    "    c.save()\n",
    "\n",
    "def on_button_clicked(name, grid_size, grade, word_type, num_words, print_pdf, filename):\n",
    "    words = get_words_by_grade_and_type(grade, word_type)\n",
    "    if not words:\n",
    "        print(\"No words found for the selected grade and type.\")\n",
    "        return\n",
    "\n",
    "    add_solution_to_pdf = print_pdf\n",
    "    grid, word_positions = generate_word_search(words, num_words, grid_size)\n",
    "    \n",
    "    # Define the folder path based on word type\n",
    "    folder_path = f'./results/{word_type.lower()}/'\n",
    "    os.makedirs(folder_path, exist_ok=True)\n",
    "\n",
    "    # Define the full filename\n",
    "    full_filename = os.path.join(folder_path, f\"{name}_word_search_{word_type.lower()}{grid_size}_{num_words}.pdf\")\n",
    "\n",
    "    create_word_search_window(grid, word_positions, grid_size, add_solution_to_pdf, full_filename)\n",
    "\n"
   ]
  },
  {
   "cell_type": "code",
   "execution_count": 5,
   "metadata": {},
   "outputs": [
    {
     "name": "stdout",
     "output_type": "stream",
     "text": [
      "Solution PDF created: ./results/foods/x5_word_search_foods10_8.pdf\n"
     ]
    }
   ],
   "source": [
    "# Example usage\n",
    "on_button_clicked(\"x5\", 10, \"PreK\", \"Foods\", 8, True, \"word_search.pdf\")"
   ]
  }
 ],
 "metadata": {
  "kernelspec": {
   "display_name": "ailab",
   "language": "python",
   "name": "python3"
  },
  "language_info": {
   "codemirror_mode": {
    "name": "ipython",
    "version": 3
   },
   "file_extension": ".py",
   "mimetype": "text/x-python",
   "name": "python",
   "nbconvert_exporter": "python",
   "pygments_lexer": "ipython3",
   "version": "3.7.16"
  }
 },
 "nbformat": 4,
 "nbformat_minor": 2
}
