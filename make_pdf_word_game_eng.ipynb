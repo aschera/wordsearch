{
 "cells": [
  {
   "cell_type": "markdown",
   "metadata": {},
   "source": [
    "# Imports"
   ]
  },
  {
   "cell_type": "code",
   "execution_count": 1,
   "metadata": {},
   "outputs": [],
   "source": [
    "import tkinter as tk\n",
    "import random\n",
    "import string\n",
    "import ipywidgets as widgets\n",
    "from IPython.display import display\n",
    "from reportlab.lib.pagesizes import letter\n",
    "from reportlab.pdfgen import canvas\n",
    "import json\n",
    "import os"
   ]
  },
  {
   "cell_type": "markdown",
   "metadata": {},
   "source": [
    "# Load JSON files with words into variables."
   ]
  },
  {
   "cell_type": "code",
   "execution_count": 2,
   "metadata": {},
   "outputs": [],
   "source": [
    "# Function to load words from JSON files\n",
    "def load_words_from_json(file_path):\n",
    "    with open(file_path, 'r') as f:\n",
    "        words = json.load(f)\n",
    "    return words"
   ]
  },
  {
   "cell_type": "code",
   "execution_count": 3,
   "metadata": {},
   "outputs": [],
   "source": [
    "# Load words from JSON files\n",
    "animals_words = load_words_from_json('./JSON/animals.json')\n",
    "foods_words = load_words_from_json('./JSON/foods.json')\n",
    "colors_words = load_words_from_json('./JSON/colors.json')\n",
    "breakfast_words = load_words_from_json('./JSON/breakfast_food.json')\n",
    "\n",
    "# Combine loaded words into a dictionary\n",
    "common_words = {\n",
    "    'Animals': animals_words,\n",
    "    'Foods': foods_words,\n",
    "    'Colors': colors_words,\n",
    "    \"Breakfast\": breakfast_words,\n",
    "    # Add more categories as needed\n",
    "}"
   ]
  },
  {
   "cell_type": "markdown",
   "metadata": {},
   "source": [
    "# Functions"
   ]
  },
  {
   "cell_type": "code",
   "execution_count": 4,
   "metadata": {},
   "outputs": [],
   "source": [
    "font = 'Helvetica'\n",
    "font_size = 16\n",
    "font_weight = 'bold'\n",
    "\n",
    "background_color = \"#FFFFFF\""
   ]
  },
  {
   "cell_type": "code",
   "execution_count": 5,
   "metadata": {},
   "outputs": [],
   "source": [
    "# Function to get words by category\n",
    "def get_words_by_category(category):\n",
    "    return common_words.get(category, {})\n",
    "\n",
    "def get_words_by_grade_and_type(grade, word_type):\n",
    "    category_words = get_words_by_category(word_type)\n",
    "    return category_words.get(grade, {}).get(word_type, [])\n",
    "\n",
    "def create_empty_grid(size):\n",
    "    return [['' for _ in range(size)] for _ in range(size)]\n",
    "\n",
    "def place_word_in_grid(grid, word, start_row, start_col, direction):\n",
    "    if direction == 'horizontal':\n",
    "        for i, char in enumerate(word):\n",
    "            grid[start_row][start_col + i] = char\n",
    "    elif direction == 'vertical':\n",
    "        for i, char in enumerate(word):\n",
    "            grid[start_row + i][start_col] = char\n",
    "    elif direction == 'diagonal':\n",
    "        for i, char in enumerate(word):\n",
    "            grid[start_row + i][start_col + i] = char\n",
    "\n",
    "def can_place_word(grid, word, start_row, start_col, direction, size):\n",
    "    if direction == 'horizontal' and start_col + len(word) > size:\n",
    "        return False\n",
    "    if direction == 'vertical' and start_row + len(word) > size:\n",
    "        return False\n",
    "    if direction == 'diagonal' and (start_row + len(word) > size or start_col + len(word) > size):\n",
    "        return False\n",
    "    for i in range(len(word)):\n",
    "        if direction == 'horizontal' and grid[start_row][start_col + i] not in ['', word[i]]:\n",
    "            return False\n",
    "        if direction == 'vertical' and grid[start_row + i][start_col] not in ['', word[i]]:\n",
    "            return False\n",
    "        if direction == 'diagonal' and grid[start_row + i][start_col + i] not in ['', word[i]]:\n",
    "            return False\n",
    "    return True\n",
    "\n",
    "def fill_grid_randomly(grid, size):\n",
    "    for row in range(size):\n",
    "        for col in range(size):\n",
    "            if grid[row][col] == '':\n",
    "                grid[row][col] = random.choice(string.ascii_uppercase)\n",
    "\n",
    "def generate_word_search(words, num_words, size=10):\n",
    "    grid = create_empty_grid(size)\n",
    "    directions = ['horizontal', 'vertical', 'diagonal']\n",
    "    word_positions = []\n",
    "\n",
    "    words_to_use = random.sample(words, num_words)\n",
    "\n",
    "    for word in words_to_use:\n",
    "        placed = False\n",
    "        while not placed:\n",
    "            direction = random.choice(directions)\n",
    "            start_row = random.randint(0, size-1)\n",
    "            start_col = random.randint(0, size-1)\n",
    "            if can_place_word(grid, word, start_row, start_col, direction, size):\n",
    "                place_word_in_grid(grid, word, start_row, start_col, direction)\n",
    "                word_positions.append((word, start_row, start_col, direction))\n",
    "                placed = True\n",
    "    \n",
    "    fill_grid_randomly(grid, size)\n",
    "    return grid, word_positions\n",
    "\n",
    "def create_word_search_window(grid, word_positions, size, add_solution_to_pdf, filename):\n",
    "    root = tk.Tk()\n",
    "    root.title(\"Word Search Grid\")\n",
    "\n",
    "    colors = [\"#%02x%02x%02x\" % (random.randint(0, 255), random.randint(0, 255), random.randint(0, 255)) for _ in range(len(word_positions))]\n",
    "\n",
    "    for row in range(size):\n",
    "        for col in range(size):\n",
    "            text = grid[row][col]\n",
    "            color = background_color\n",
    "            for idx, pos in enumerate(word_positions):\n",
    "                word, start_row, start_col, direction = pos\n",
    "                if direction == 'horizontal' and row == start_row and start_col <= col < start_col + len(word):\n",
    "                    color = colors[idx]\n",
    "                elif direction == 'vertical' and col == start_col and start_row <= row < start_row + len(word):\n",
    "                    color = colors[idx]\n",
    "                elif direction == 'diagonal' and (row - start_row) == (col - start_col) and start_row <= row < start_row + len(word):\n",
    "                    color = colors[idx]\n",
    "            cell = tk.Label(root, text=text, bg=color, width=4, height=2, font=(font, font_size, font_weight))\n",
    "            cell.grid(row=row, column=col, padx=1, pady=1)\n",
    "\n",
    "    if add_solution_to_pdf:\n",
    "        # Generate PDF with solution grid\n",
    "        create_solution_pdf(grid, filename, size)\n",
    "        print(f\"Solution PDF created: {filename}\")\n",
    "\n",
    "    root.mainloop()\n",
    "\n",
    "def create_solution_pdf(grid, filename, size):\n",
    "    c = canvas.Canvas(filename, pagesize=letter)\n",
    "    width, height = letter\n",
    "    cell_size = width / size\n",
    "\n",
    "    c.setFont(font, font_size)\n",
    "\n",
    "    for row in range(size):\n",
    "        for col in range(size):\n",
    "            x = col * cell_size\n",
    "            y = height - (row + 1) * cell_size\n",
    "            c.drawString(x + cell_size / 2 - 5, y + cell_size / 2 - 5, grid[row][col])\n",
    "\n",
    "    c.save()\n",
    "\n",
    "def on_button_clicked(name, grid_size, grade, word_type, num_words, print_pdf, filename):\n",
    "    words = get_words_by_grade_and_type(grade, word_type)\n",
    "    if not words:\n",
    "        print(grade, word_type)\n",
    "        print(\"No words found for the selected grade and type.\")\n",
    "        return\n",
    "\n",
    "    add_solution_to_pdf = print_pdf\n",
    "    grid, word_positions = generate_word_search(words, num_words, grid_size)\n",
    "    \n",
    "    # Define the folder path based on word type\n",
    "    folder_path = f'./results/{word_type.lower()}/'\n",
    "    os.makedirs(folder_path, exist_ok=True)\n",
    "\n",
    "    # Define the full filename\n",
    "    full_filename = os.path.join(folder_path, f\"{name}_word_search_{word_type.lower()}{grid_size}_{num_words}.pdf\")\n",
    "\n",
    "    create_word_search_window(grid, word_positions, grid_size, add_solution_to_pdf, full_filename)"
   ]
  },
  {
   "cell_type": "code",
   "execution_count": 9,
   "metadata": {},
   "outputs": [
    {
     "ename": "KeyboardInterrupt",
     "evalue": "",
     "output_type": "error",
     "traceback": [
      "\u001b[1;31m---------------------------------------------------------------------------\u001b[0m",
      "\u001b[1;31mKeyboardInterrupt\u001b[0m                         Traceback (most recent call last)",
      "\u001b[1;32m~\\AppData\\Local\\Temp\\ipykernel_7820\\2920713337.py\u001b[0m in \u001b[0;36m<module>\u001b[1;34m\u001b[0m\n\u001b[0;32m      2\u001b[0m \u001b[1;31m# min size for Kindergarten is 9x9\u001b[0m\u001b[1;33m\u001b[0m\u001b[1;33m\u001b[0m\u001b[1;33m\u001b[0m\u001b[0m\n\u001b[0;32m      3\u001b[0m \u001b[1;31m# min size for 1st Grade is\u001b[0m\u001b[1;33m\u001b[0m\u001b[1;33m\u001b[0m\u001b[1;33m\u001b[0m\u001b[0m\n\u001b[1;32m----> 4\u001b[1;33m \u001b[0mon_button_clicked\u001b[0m\u001b[1;33m(\u001b[0m\u001b[1;34m\"first page\"\u001b[0m\u001b[1;33m,\u001b[0m \u001b[1;36m11\u001b[0m\u001b[1;33m,\u001b[0m \u001b[1;34m\"1st Grade\"\u001b[0m\u001b[1;33m,\u001b[0m \u001b[1;34m\"Breakfast\"\u001b[0m\u001b[1;33m,\u001b[0m \u001b[1;36m9\u001b[0m\u001b[1;33m,\u001b[0m \u001b[1;32mTrue\u001b[0m\u001b[1;33m,\u001b[0m \u001b[1;34m\"food_breakfast.pdf\"\u001b[0m\u001b[1;33m)\u001b[0m\u001b[1;33m\u001b[0m\u001b[1;33m\u001b[0m\u001b[0m\n\u001b[0m",
      "\u001b[1;32m~\\AppData\\Local\\Temp\\ipykernel_7820\\867904612.py\u001b[0m in \u001b[0;36mon_button_clicked\u001b[1;34m(name, grid_size, grade, word_type, num_words, print_pdf, filename)\u001b[0m\n\u001b[0;32m    115\u001b[0m \u001b[1;33m\u001b[0m\u001b[0m\n\u001b[0;32m    116\u001b[0m     \u001b[0madd_solution_to_pdf\u001b[0m \u001b[1;33m=\u001b[0m \u001b[0mprint_pdf\u001b[0m\u001b[1;33m\u001b[0m\u001b[1;33m\u001b[0m\u001b[0m\n\u001b[1;32m--> 117\u001b[1;33m     \u001b[0mgrid\u001b[0m\u001b[1;33m,\u001b[0m \u001b[0mword_positions\u001b[0m \u001b[1;33m=\u001b[0m \u001b[0mgenerate_word_search\u001b[0m\u001b[1;33m(\u001b[0m\u001b[0mwords\u001b[0m\u001b[1;33m,\u001b[0m \u001b[0mnum_words\u001b[0m\u001b[1;33m,\u001b[0m \u001b[0mgrid_size\u001b[0m\u001b[1;33m)\u001b[0m\u001b[1;33m\u001b[0m\u001b[1;33m\u001b[0m\u001b[0m\n\u001b[0m\u001b[0;32m    118\u001b[0m \u001b[1;33m\u001b[0m\u001b[0m\n\u001b[0;32m    119\u001b[0m     \u001b[1;31m# Define the folder path based on word type\u001b[0m\u001b[1;33m\u001b[0m\u001b[1;33m\u001b[0m\u001b[1;33m\u001b[0m\u001b[0m\n",
      "\u001b[1;32m~\\AppData\\Local\\Temp\\ipykernel_7820\\867904612.py\u001b[0m in \u001b[0;36mgenerate_word_search\u001b[1;34m(words, num_words, size)\u001b[0m\n\u001b[0;32m     55\u001b[0m             \u001b[0mdirection\u001b[0m \u001b[1;33m=\u001b[0m \u001b[0mrandom\u001b[0m\u001b[1;33m.\u001b[0m\u001b[0mchoice\u001b[0m\u001b[1;33m(\u001b[0m\u001b[0mdirections\u001b[0m\u001b[1;33m)\u001b[0m\u001b[1;33m\u001b[0m\u001b[1;33m\u001b[0m\u001b[0m\n\u001b[0;32m     56\u001b[0m             \u001b[0mstart_row\u001b[0m \u001b[1;33m=\u001b[0m \u001b[0mrandom\u001b[0m\u001b[1;33m.\u001b[0m\u001b[0mrandint\u001b[0m\u001b[1;33m(\u001b[0m\u001b[1;36m0\u001b[0m\u001b[1;33m,\u001b[0m \u001b[0msize\u001b[0m\u001b[1;33m-\u001b[0m\u001b[1;36m1\u001b[0m\u001b[1;33m)\u001b[0m\u001b[1;33m\u001b[0m\u001b[1;33m\u001b[0m\u001b[0m\n\u001b[1;32m---> 57\u001b[1;33m             \u001b[0mstart_col\u001b[0m \u001b[1;33m=\u001b[0m \u001b[0mrandom\u001b[0m\u001b[1;33m.\u001b[0m\u001b[0mrandint\u001b[0m\u001b[1;33m(\u001b[0m\u001b[1;36m0\u001b[0m\u001b[1;33m,\u001b[0m \u001b[0msize\u001b[0m\u001b[1;33m-\u001b[0m\u001b[1;36m1\u001b[0m\u001b[1;33m)\u001b[0m\u001b[1;33m\u001b[0m\u001b[1;33m\u001b[0m\u001b[0m\n\u001b[0m\u001b[0;32m     58\u001b[0m             \u001b[1;32mif\u001b[0m \u001b[0mcan_place_word\u001b[0m\u001b[1;33m(\u001b[0m\u001b[0mgrid\u001b[0m\u001b[1;33m,\u001b[0m \u001b[0mword\u001b[0m\u001b[1;33m,\u001b[0m \u001b[0mstart_row\u001b[0m\u001b[1;33m,\u001b[0m \u001b[0mstart_col\u001b[0m\u001b[1;33m,\u001b[0m \u001b[0mdirection\u001b[0m\u001b[1;33m,\u001b[0m \u001b[0msize\u001b[0m\u001b[1;33m)\u001b[0m\u001b[1;33m:\u001b[0m\u001b[1;33m\u001b[0m\u001b[1;33m\u001b[0m\u001b[0m\n\u001b[0;32m     59\u001b[0m                 \u001b[0mplace_word_in_grid\u001b[0m\u001b[1;33m(\u001b[0m\u001b[0mgrid\u001b[0m\u001b[1;33m,\u001b[0m \u001b[0mword\u001b[0m\u001b[1;33m,\u001b[0m \u001b[0mstart_row\u001b[0m\u001b[1;33m,\u001b[0m \u001b[0mstart_col\u001b[0m\u001b[1;33m,\u001b[0m \u001b[0mdirection\u001b[0m\u001b[1;33m)\u001b[0m\u001b[1;33m\u001b[0m\u001b[1;33m\u001b[0m\u001b[0m\n",
      "\u001b[1;32mc:\\Users\\asche\\anaconda3\\envs\\ailab\\lib\\random.py\u001b[0m in \u001b[0;36mrandint\u001b[1;34m(self, a, b)\u001b[0m\n\u001b[0;32m    220\u001b[0m         \"\"\"\n\u001b[0;32m    221\u001b[0m \u001b[1;33m\u001b[0m\u001b[0m\n\u001b[1;32m--> 222\u001b[1;33m         \u001b[1;32mreturn\u001b[0m \u001b[0mself\u001b[0m\u001b[1;33m.\u001b[0m\u001b[0mrandrange\u001b[0m\u001b[1;33m(\u001b[0m\u001b[0ma\u001b[0m\u001b[1;33m,\u001b[0m \u001b[0mb\u001b[0m\u001b[1;33m+\u001b[0m\u001b[1;36m1\u001b[0m\u001b[1;33m)\u001b[0m\u001b[1;33m\u001b[0m\u001b[1;33m\u001b[0m\u001b[0m\n\u001b[0m\u001b[0;32m    223\u001b[0m \u001b[1;33m\u001b[0m\u001b[0m\n\u001b[0;32m    224\u001b[0m     def _randbelow(self, n, int=int, maxsize=1<<BPF, type=type,\n",
      "\u001b[1;32mc:\\Users\\asche\\anaconda3\\envs\\ailab\\lib\\random.py\u001b[0m in \u001b[0;36mrandrange\u001b[1;34m(self, start, stop, step, _int)\u001b[0m\n\u001b[0;32m    196\u001b[0m         \u001b[0mwidth\u001b[0m \u001b[1;33m=\u001b[0m \u001b[0mistop\u001b[0m \u001b[1;33m-\u001b[0m \u001b[0mistart\u001b[0m\u001b[1;33m\u001b[0m\u001b[1;33m\u001b[0m\u001b[0m\n\u001b[0;32m    197\u001b[0m         \u001b[1;32mif\u001b[0m \u001b[0mstep\u001b[0m \u001b[1;33m==\u001b[0m \u001b[1;36m1\u001b[0m \u001b[1;32mand\u001b[0m \u001b[0mwidth\u001b[0m \u001b[1;33m>\u001b[0m \u001b[1;36m0\u001b[0m\u001b[1;33m:\u001b[0m\u001b[1;33m\u001b[0m\u001b[1;33m\u001b[0m\u001b[0m\n\u001b[1;32m--> 198\u001b[1;33m             \u001b[1;32mreturn\u001b[0m \u001b[0mistart\u001b[0m \u001b[1;33m+\u001b[0m \u001b[0mself\u001b[0m\u001b[1;33m.\u001b[0m\u001b[0m_randbelow\u001b[0m\u001b[1;33m(\u001b[0m\u001b[0mwidth\u001b[0m\u001b[1;33m)\u001b[0m\u001b[1;33m\u001b[0m\u001b[1;33m\u001b[0m\u001b[0m\n\u001b[0m\u001b[0;32m    199\u001b[0m         \u001b[1;32mif\u001b[0m \u001b[0mstep\u001b[0m \u001b[1;33m==\u001b[0m \u001b[1;36m1\u001b[0m\u001b[1;33m:\u001b[0m\u001b[1;33m\u001b[0m\u001b[1;33m\u001b[0m\u001b[0m\n\u001b[0;32m    200\u001b[0m             \u001b[1;32mraise\u001b[0m \u001b[0mValueError\u001b[0m\u001b[1;33m(\u001b[0m\u001b[1;34m\"empty range for randrange() (%d,%d, %d)\"\u001b[0m \u001b[1;33m%\u001b[0m \u001b[1;33m(\u001b[0m\u001b[0mistart\u001b[0m\u001b[1;33m,\u001b[0m \u001b[0mistop\u001b[0m\u001b[1;33m,\u001b[0m \u001b[0mwidth\u001b[0m\u001b[1;33m)\u001b[0m\u001b[1;33m)\u001b[0m\u001b[1;33m\u001b[0m\u001b[1;33m\u001b[0m\u001b[0m\n",
      "\u001b[1;32mc:\\Users\\asche\\anaconda3\\envs\\ailab\\lib\\random.py\u001b[0m in \u001b[0;36m_randbelow\u001b[1;34m(self, n, int, maxsize, type, Method, BuiltinMethod)\u001b[0m\n\u001b[0;32m    234\u001b[0m             \u001b[0mr\u001b[0m \u001b[1;33m=\u001b[0m \u001b[0mgetrandbits\u001b[0m\u001b[1;33m(\u001b[0m\u001b[0mk\u001b[0m\u001b[1;33m)\u001b[0m          \u001b[1;31m# 0 <= r < 2**k\u001b[0m\u001b[1;33m\u001b[0m\u001b[1;33m\u001b[0m\u001b[0m\n\u001b[0;32m    235\u001b[0m             \u001b[1;32mwhile\u001b[0m \u001b[0mr\u001b[0m \u001b[1;33m>=\u001b[0m \u001b[0mn\u001b[0m\u001b[1;33m:\u001b[0m\u001b[1;33m\u001b[0m\u001b[1;33m\u001b[0m\u001b[0m\n\u001b[1;32m--> 236\u001b[1;33m                 \u001b[0mr\u001b[0m \u001b[1;33m=\u001b[0m \u001b[0mgetrandbits\u001b[0m\u001b[1;33m(\u001b[0m\u001b[0mk\u001b[0m\u001b[1;33m)\u001b[0m\u001b[1;33m\u001b[0m\u001b[1;33m\u001b[0m\u001b[0m\n\u001b[0m\u001b[0;32m    237\u001b[0m             \u001b[1;32mreturn\u001b[0m \u001b[0mr\u001b[0m\u001b[1;33m\u001b[0m\u001b[1;33m\u001b[0m\u001b[0m\n\u001b[0;32m    238\u001b[0m         \u001b[1;31m# There's an overridden random() method but no new getrandbits() method,\u001b[0m\u001b[1;33m\u001b[0m\u001b[1;33m\u001b[0m\u001b[1;33m\u001b[0m\u001b[0m\n",
      "\u001b[1;31mKeyboardInterrupt\u001b[0m: "
     ]
    }
   ],
   "source": [
    "# For Breakfast:\n",
    "# min size for PreK is 7x7\n",
    "# min size for Kindergarten is 9x9\n",
    "# min size for 1st Grade is 12x12\n",
    "\n",
    "# !! The grid has to be 1-2 letters bigger than the longest word.\n",
    "\n",
    "on_button_clicked(\"first page\", 11, \"1st Grade\", \"Breakfast\", 9, True, \"food_breakfast.pdf\")"
   ]
  }
 ],
 "metadata": {
  "kernelspec": {
   "display_name": "ailab",
   "language": "python",
   "name": "python3"
  },
  "language_info": {
   "codemirror_mode": {
    "name": "ipython",
    "version": 3
   },
   "file_extension": ".py",
   "mimetype": "text/x-python",
   "name": "python",
   "nbconvert_exporter": "python",
   "pygments_lexer": "ipython3",
   "version": "3.7.16"
  }
 },
 "nbformat": 4,
 "nbformat_minor": 2
}
